{
 "cells": [
  {
   "cell_type": "markdown",
   "metadata": {},
   "source": [
    "# Generate website content"
   ]
  },
  {
   "cell_type": "code",
   "execution_count": null,
   "metadata": {},
   "outputs": [],
   "source": [
    "import pinklib.website as web\n",
    "import os\n",
    "from astropy.stats import median_absolute_deviation\n",
    "import numpy as np\n",
    "import importlib\n",
    "import pandas as pd"
   ]
  },
  {
   "cell_type": "code",
   "execution_count": null,
   "metadata": {},
   "outputs": [],
   "source": [
    "# INPUT PARAMETERS\n",
    "# Name of the binary file\n",
    "cutouts_bin_name = 'cutouts_preprocessed'\n",
    "\n",
    "# SOM parameters\n",
    "layout = 'quadratic'\n",
    "som_label = 'cyclic SOM'\n",
    "\n",
    "# Outliers parameters\n",
    "# Can be any number smaller than the total amount of cut-outs/sources in your binary file\n",
    "number_of_outliers_to_show = 100\n",
    "\n",
    "# Cutouts to website parameters\n",
    "max_number_of_images_to_show = 10\n",
    "\n",
    "# Paths and directories\n",
    "SOM_directory = 'SOM_directory'\n",
    "catalogue_path = os.path.join('SOM_directory', 'catalogue_LOTSS_DR1_final.pkl')\n",
    "data_path = os.path.join('SOM_directory', 'LOTSS_DR1_final.bin')\n",
    "trained_path = os.path.join('SOM_directory',\n",
    "                            'resultLOTSS_DR1_final_10x10x67_0.443146905982625_12.533141373155_ID14.bin')\n",
    "mapping_path = os.path.join('SOM_directory',\n",
    "                    'mapping_resultLOTSS_DR1_final_10x10x67_0.443146905982625_12.533141373155_ID14.bin')\n",
    "\n",
    "website_path = 'website'\n",
    "if not os.path.exists(website_path):\n",
    "    os.mkdir(website_path)\n",
    "outliers_path = os.path.join(website_path, 'outliers')\n",
    "if not os.path.exists(website_path):\n",
    "    os.makedirs(website_path)"
   ]
  },
  {
   "cell_type": "code",
   "execution_count": null,
   "metadata": {},
   "outputs": [],
   "source": [
    "# Create SOM object (a data structure that holds the properties of a SOM)\n",
    "data_som, number_of_channels, som_width, som_height, som_depth, \\\n",
    "     neuron_width,  neuron_height = web.unpack_trained_som(trained_path, layout)\n",
    "my_som = web.SOM(data_som, number_of_channels, som_width, som_height, som_depth, layout, \n",
    "               SOM_directory, '', som_label, neuron_width,99)\n",
    "    \n",
    "    \n",
    "# Plot SOM\n",
    "web.plot_som(my_som,gap=2, save=True, save_dir=website_path, normalize=True, cmap='viridis')"
   ]
  },
  {
   "cell_type": "code",
   "execution_count": null,
   "metadata": {},
   "outputs": [],
   "source": [
    "# Spread of the sources over the SOM\n",
    "# Create list of indexes to retrieve coordinates of the cut-outs\n",
    "data_map, _, _, _, _ = web.load_som_mapping(mapping_path, my_som, verbose=True)\n",
    "distance_to_bmu = np.min(data_map, axis=1)\n",
    "distance_to_bmu_sorted_down_id = np.argsort(distance_to_bmu)[::-1]\n",
    "closest_prototype_id = np.argmin(data_map, axis=1)\n",
    "prototype_x = np.array([int(i%my_som.som_width) for i in closest_prototype_id])\n",
    "prototype_y = np.array([int(i/my_som.som_width) for i in closest_prototype_id])\n",
    "closest_to_prototype_count = np.bincount(closest_prototype_id)\n",
    "print('Mean bincount:', np.mean(closest_to_prototype_count))\n",
    "print('Standard deviation bincount:', np.std(closest_to_prototype_count))\n",
    "print('median bincount:', np.median(closest_to_prototype_count))\n",
    "print('Standard deviation bincount:', median_absolute_deviation(closest_to_prototype_count))\n",
    "\n",
    "\n",
    "# Plot best matching unit heatmap\n",
    "web.plot_som_bmu_heatmap(my_som, closest_prototype_id, cbar=False, save=True, save_dir=website_path)"
   ]
  },
  {
   "cell_type": "code",
   "execution_count": null,
   "metadata": {},
   "outputs": [],
   "source": [
    "# Generate website content\n",
    "catalogue = pd.read_pickle(catalogue_path)\n",
    "outliers = web.plot_and_save_outliers(my_som, outliers_path, data_path, \n",
    "        number_of_outliers_to_show, catalogue, closest_prototype_id,\n",
    "        distance_to_bmu_sorted_down_id, clip_threshold=False, plot_border=False,\n",
    "        debug=False, apply_clipping=False, overwrite=True, save=True)\n",
    "\n",
    "# Plot outliers histogram\n",
    "web.plot_distance_to_bmu_histogram(distance_to_bmu, number_of_outliers_to_show, \n",
    "                                    outliers_path, xmax=150, save=True)"
   ]
  },
  {
   "cell_type": "code",
   "execution_count": null,
   "metadata": {},
   "outputs": [],
   "source": [
    "# Save all max_number_of_images_to_show\n",
    "web.save_all_prototypes_and_cutouts(my_som, data_path, website_path, max_number_of_images_to_show, \n",
    "        catalogue, catalogue, data_map,\n",
    "        figsize=5, save=True, plot_border=False, plot_cutout_index=False, apply_clipping=False, \n",
    "                                     clip_threshold=3, overwrite=True)"
   ]
  }
 ],
 "metadata": {
  "kernelspec": {
   "display_name": "Python 3",
   "language": "python",
   "name": "python3"
  }
 },
 "nbformat": 4,
 "nbformat_minor": 2
}
